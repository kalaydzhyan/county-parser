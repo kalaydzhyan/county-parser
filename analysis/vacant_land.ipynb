{
 "cells": [
  {
   "cell_type": "code",
   "execution_count": 1,
   "metadata": {},
   "outputs": [],
   "source": [
    "import pandas as pd\n",
    "import json, os\n",
    "from time import strftime\n",
    "import numpy as np"
   ]
  },
  {
   "cell_type": "code",
   "execution_count": 2,
   "metadata": {},
   "outputs": [],
   "source": [
    "BAD_OWNERS = ['SENTER', 'RAILWAY', 'CITY', 'GOVERNMENT', 'GOVT', 'STATE OF', 'PIPE', 'CEMETERY', 'SCHOOL', 'TOWER', 'DISTRICT', 'SYSTEM', 'CRUZ SHERIDAN']\n",
    "BAD_ZONING = ['Commercial', 'Public Street', 'Utility Use']"
   ]
  },
  {
   "cell_type": "code",
   "execution_count": 3,
   "metadata": {},
   "outputs": [],
   "source": [
    "def split_address(address):\n",
    "    *street, town, area = address.split(',')\n",
    "    state, Zip = area.split()\n",
    "    street, town, state, Zip = (s.strip() for s in (','.join(street), town, state, Zip))\n",
    "    Zip = Zip[:5]\n",
    "    return street, town, state, Zip\n",
    "\n",
    "def good_address(address_list):\n",
    "    good_flags = []\n",
    "    for address in address_list:\n",
    "        try:\n",
    "            split_address(address)\n",
    "            good_flags.append(True)\n",
    "        except:\n",
    "            good_flags.append(False)\n",
    "    return good_flags\n",
    "\n",
    "def df_to_click2mail(df):\n",
    "    ad_columns     = ['Address', 'City', 'State', 'Zip']\n",
    "    output         = pd.DataFrame(map(split_address, df.owner_address.values), columns=ad_columns)\n",
    "    output['Name'] = [name[:-2] if name.endswith(' &') else name for name in df.owner_name]\n",
    "    output.drop_duplicates(subset='Name', inplace=True)\n",
    "    \n",
    "    return output[['Name', *ad_columns]]\n",
    "\n",
    "def remove_bad_owners(df, col='Name'):\n",
    "    bad_owners_str = '|'.join(BAD_OWNERS)\n",
    "    return df[~df[col].str.contains(bad_owners_str, case=False)]"
   ]
  },
  {
   "cell_type": "markdown",
   "metadata": {},
   "source": [
    "**Tax penalty 1..20 acres and Wylie 1..10 acres, absentee only**"
   ]
  },
  {
   "cell_type": "code",
   "execution_count": 14,
   "metadata": {},
   "outputs": [],
   "source": [
    "# Tax delinquent land with penalty\n",
    "\n",
    "min_acres, max_acres = 0.9, 20.1\n",
    "\n",
    "df      = pd.read_json(f'{os.getcwd()}/output.json')\n",
    "df      = df[good_address(df.owner_address.values)]\n",
    "df      = df[df.absentee & df.empty_land & ~df.inactive & df.recent_penalty]\n",
    "df      = df[~df.zoning.isin(BAD_ZONING)]\n",
    "col_set = set(df.columns)-{'absentee', 'empty_land', 'inactive', 'land_dict', 'property_use'}\n",
    "df      = df[[*col_set]]\n",
    "df      = df.sort_values(by='recent_penalty', ascending=False)\n",
    "df      = df[(df.land_area <= max_acres) & (min_acres <= df.land_area)]\n",
    "\n",
    "df1 = df"
   ]
  },
  {
   "cell_type": "code",
   "execution_count": 15,
   "metadata": {},
   "outputs": [],
   "source": [
    "# Small empty land in Wylie ISD\n",
    "\n",
    "min_acres, max_acres = 0.9, 10.1\n",
    "\n",
    "df      = pd.read_json(f'{os.getcwd()}/output.json')\n",
    "df      = df[good_address(df.owner_address.values)]\n",
    "df      = df[df.absentee & df.empty_land & ~df.inactive]\n",
    "df      = df[df.recent_penalty==0.0]\n",
    "df      = df[df.school=='WYLIE']\n",
    "df      = df[~df.zoning.isin(BAD_ZONING)]\n",
    "col_set = set(df.columns)-{'absentee', 'empty_land', 'inactive', 'land_dict', 'property_use'}\n",
    "df      = df[[*col_set]]\n",
    "df      = df[(df.land_area <= max_acres) & (min_acres <= df.land_area)]\n",
    "\n",
    "df2 = df"
   ]
  },
  {
   "cell_type": "code",
   "execution_count": 16,
   "metadata": {},
   "outputs": [],
   "source": [
    "df_full = pd.concat([df1, df2], ignore_index=True)"
   ]
  },
  {
   "cell_type": "code",
   "execution_count": 8,
   "metadata": {},
   "outputs": [
    {
     "data": {
      "text/plain": [
       "(332, 5)"
      ]
     },
     "execution_count": 8,
     "metadata": {},
     "output_type": "execute_result"
    }
   ],
   "source": [
    "df_mailing = df_to_click2mail(df_full)\n",
    "df_mailing = remove_bad_owners(df_mailing)\n",
    "df_mailing.shape"
   ]
  },
  {
   "cell_type": "code",
   "execution_count": 86,
   "metadata": {},
   "outputs": [],
   "source": [
    "timestamp = strftime(\"%Y%m%d_%H%M%S\")\n",
    "df_mailing.to_csv(f'{os.getcwd()}/ml_{timestamp}.csv', index=False)"
   ]
  },
  {
   "cell_type": "markdown",
   "metadata": {},
   "source": [
    "**Delinquent multi-family homes**"
   ]
  },
  {
   "cell_type": "code",
   "execution_count": 14,
   "metadata": {},
   "outputs": [],
   "source": [
    "# Tax delinquent multifamily\n",
    "\n",
    "df = pd.read_json(f'{os.getcwd()}/output.json')\n",
    "df = df[(df.property_use=='MULTIPLE RESIDENCE') & (df.recent_delinq)]\n",
    "df.to_csv(f'{os.getcwd()}/multi.csv', index = False)\n",
    "\n",
    "df_mailing = df_to_click2mail(df)\n",
    "df_mailing = remove_bad_owners(df_mailing)\n",
    "df_mailing.to_csv(f'{os.getcwd()}/ml_multi_names.csv', index=False)"
   ]
  },
  {
   "cell_type": "code",
   "execution_count": 11,
   "metadata": {},
   "outputs": [
    {
     "data": {
      "text/plain": [
       "(420, 10)"
      ]
     },
     "execution_count": 11,
     "metadata": {},
     "output_type": "execute_result"
    }
   ],
   "source": [
    "df_full = remove_bad_owners(df_full, col='owner_name')\n",
    "df_full.to_csv('~/temp/current_list.csv', index=False)\n",
    "df_full.shape"
   ]
  },
  {
   "cell_type": "markdown",
   "metadata": {},
   "source": [
    "**Delinquent land without penalty 1..20 acres, absentee only**"
   ]
  },
  {
   "cell_type": "code",
   "execution_count": 11,
   "metadata": {},
   "outputs": [],
   "source": [
    "min_acres, max_acres = 0.9, 20.1\n",
    "\n",
    "df      = pd.read_json(f'{os.getcwd()}/output.json')\n",
    "df      = df[good_address(df.owner_address.values)]\n",
    "df      = df[df.absentee & df.empty_land & ~df.inactive ]\n",
    "df      = df[(~df.recent_penalty.values.astype(bool)) & df.recent_delinq.values.astype(bool)]\n",
    "df      = df[~df.zoning.isin(BAD_ZONING)]\n",
    "col_set = set(df.columns)-{'absentee', 'empty_land', 'inactive', 'land_dict', 'property_use'}\n",
    "df      = df[[*col_set]]\n",
    "df      = df.sort_values(by='recent_penalty', ascending=False)\n",
    "df      = df[(df.land_area <= max_acres) & (min_acres <= df.land_area)]"
   ]
  },
  {
   "cell_type": "code",
   "execution_count": 12,
   "metadata": {},
   "outputs": [],
   "source": [
    "df_mailing         = df_to_click2mail(df)\n",
    "df_mailing         = remove_bad_owners(df_mailing)\n",
    "already_sent_names = pd.read_csv(f'{os.getcwd()}/ml_penalty20_wylie10.csv')['Name']\n",
    "df_mailing         = df_mailing[~df_mailing.Name.isin(already_sent_names.values)]"
   ]
  },
  {
   "cell_type": "code",
   "execution_count": 13,
   "metadata": {},
   "outputs": [],
   "source": [
    "timestamp = strftime(\"%Y%m%d_%H%M%S\")\n",
    "df_mailing.to_csv(f'{os.getcwd()}/ml_{timestamp}.csv', index=False)"
   ]
  },
  {
   "cell_type": "code",
   "execution_count": null,
   "metadata": {},
   "outputs": [],
   "source": []
  },
  {
   "cell_type": "code",
   "execution_count": null,
   "metadata": {},
   "outputs": [],
   "source": []
  }
 ],
 "metadata": {
  "kernelspec": {
   "display_name": "Python 3",
   "language": "python",
   "name": "python3"
  },
  "language_info": {
   "codemirror_mode": {
    "name": "ipython",
    "version": 3
   },
   "file_extension": ".py",
   "mimetype": "text/x-python",
   "name": "python",
   "nbconvert_exporter": "python",
   "pygments_lexer": "ipython3",
   "version": "3.8.5"
  }
 },
 "nbformat": 4,
 "nbformat_minor": 4
}
