{
 "cells": [
  {
   "cell_type": "code",
   "execution_count": 2,
   "metadata": {},
   "outputs": [],
   "source": [
    "import pandas as pd\n",
    "import json, os\n",
    "from time import strftime\n",
    "import numpy as np"
   ]
  },
  {
   "cell_type": "code",
   "execution_count": 3,
   "metadata": {},
   "outputs": [],
   "source": [
    "BAD_OWNERS = ['SENTER', 'RAILWAY', 'CITY', 'GOVERNMENT', 'GOVT', 'STATE OF', 'PIPE', 'CEMETERY', 'SCHOOL', 'TOWER', 'DISTRICT', 'SYSTEM']\n",
    "BAD_ZONING = ['Commercial', 'Public Street', 'Utility Use']\n",
    "OUTPUT_DIR = '../output/'"
   ]
  },
  {
   "cell_type": "code",
   "execution_count": 4,
   "metadata": {},
   "outputs": [],
   "source": [
    "def split_address(address):\n",
    "    *street, town, area = address.split(',')\n",
    "    state, Zip = area.split()\n",
    "    street, town, state, Zip = (s.strip() for s in (','.join(street), town, state, Zip))\n",
    "    Zip = Zip[:5]\n",
    "    return street, town, state, Zip\n",
    "\n",
    "def good_address(address_list):\n",
    "    good_flags = []\n",
    "    for address in address_list:\n",
    "        try:\n",
    "            split_address(address)\n",
    "            good_flags.append(True)\n",
    "        except:\n",
    "            good_flags.append(False)\n",
    "    return good_flags\n",
    "\n",
    "def df_to_click2mail(df):\n",
    "    ad_columns     = ['Address', 'City', 'State', 'Zip']\n",
    "    output         = pd.DataFrame(map(split_address, df.owner_address.values), columns=ad_columns)\n",
    "    output['Name'] = [name[:-2] if name.endswith(' &') else name for name in df.owner_name]\n",
    "    output.drop_duplicates(subset='Name', inplace=True)\n",
    "    \n",
    "    return output[['Name', *ad_columns]]\n",
    "\n",
    "def remove_bad_owners(df, col='Name'):\n",
    "    bad_owners_str = '|'.join(BAD_OWNERS)\n",
    "    return df[~df[col].str.contains(bad_owners_str, case=False)]"
   ]
  },
  {
   "cell_type": "markdown",
   "metadata": {},
   "source": [
    "**Tax penalty 1..20 acres and Wylie 1..10 acres, absentee only**"
   ]
  },
  {
   "cell_type": "code",
   "execution_count": 14,
   "metadata": {},
   "outputs": [],
   "source": [
    "# Tax delinquent land with penalty\n",
    "\n",
    "min_acres, max_acres = 0.9, 20.1\n",
    "\n",
    "df      = pd.read_json(f'{OUTPUT_DIR}/output_taylor/output_taylor.json')\n",
    "df      = df[good_address(df.owner_address.values)]\n",
    "df      = df[df.absentee & df.empty_land & ~df.inactive & df.recent_penalty]\n",
    "df      = df[~df.zoning.isin(BAD_ZONING)]\n",
    "col_set = set(df.columns)-{'absentee', 'empty_land', 'inactive', 'land_dict', 'property_use'}\n",
    "df      = df[[*col_set]]\n",
    "df      = df.sort_values(by='recent_penalty', ascending=False)\n",
    "df      = df[(df.land_area <= max_acres) & (min_acres <= df.land_area)]\n",
    "\n",
    "df1 = df"
   ]
  },
  {
   "cell_type": "code",
   "execution_count": 15,
   "metadata": {},
   "outputs": [],
   "source": [
    "# Small empty land in Wylie ISD\n",
    "\n",
    "min_acres, max_acres = 0.9, 10.1\n",
    "\n",
    "df      = pd.read_json(f'{OUTPUT_DIR}/output_taylor/output_taylor.json')\n",
    "df      = df[good_address(df.owner_address.values)]\n",
    "df      = df[df.absentee & df.empty_land & ~df.inactive]\n",
    "df      = df[df.recent_penalty==0.0]\n",
    "df      = df[df.school=='WYLIE']\n",
    "df      = df[~df.zoning.isin(BAD_ZONING)]\n",
    "col_set = set(df.columns)-{'absentee', 'empty_land', 'inactive', 'land_dict', 'property_use'}\n",
    "df      = df[[*col_set]]\n",
    "df      = df[(df.land_area <= max_acres) & (min_acres <= df.land_area)]\n",
    "\n",
    "df2 = df"
   ]
  },
  {
   "cell_type": "code",
   "execution_count": 16,
   "metadata": {},
   "outputs": [],
   "source": [
    "df_full = pd.concat([df1, df2], ignore_index=True)"
   ]
  },
  {
   "cell_type": "code",
   "execution_count": 17,
   "metadata": {},
   "outputs": [
    {
     "data": {
      "text/plain": [
       "(333, 5)"
      ]
     },
     "execution_count": 17,
     "metadata": {},
     "output_type": "execute_result"
    }
   ],
   "source": [
    "df_mailing = df_to_click2mail(df_full)\n",
    "df_mailing = remove_bad_owners(df_mailing)\n",
    "df_mailing.shape"
   ]
  },
  {
   "cell_type": "code",
   "execution_count": 18,
   "metadata": {},
   "outputs": [],
   "source": [
    "timestamp = strftime(\"%Y%m%d_%H%M%S\")\n",
    "df_mailing.to_csv(f'{OUTPUT_DIR}/ml_{timestamp}.csv', index=False)"
   ]
  },
  {
   "cell_type": "markdown",
   "metadata": {},
   "source": [
    "**Delinquent multi-family homes**"
   ]
  },
  {
   "cell_type": "code",
   "execution_count": 20,
   "metadata": {},
   "outputs": [],
   "source": [
    "# Tax delinquent multifamily\n",
    "\n",
    "df = pd.read_json(f'{OUTPUT_DIR}/output_taylor/output_taylor.json')\n",
    "df = df[(df.property_use=='MULTIPLE RESIDENCE') & (df.recent_delinq)]\n",
    "df.to_csv(f'{OUTPUT_DIR}/multi.csv', index = False)\n",
    "\n",
    "df_mailing = df_to_click2mail(df)\n",
    "df_mailing = remove_bad_owners(df_mailing)\n",
    "df_mailing.to_csv(f'{OUTPUT_DIR}/ml_multi_names.csv', index=False)"
   ]
  },
  {
   "cell_type": "markdown",
   "metadata": {},
   "source": [
    "**Delinquent land without penalty 1..20 acres, absentee only**"
   ]
  },
  {
   "cell_type": "code",
   "execution_count": 21,
   "metadata": {},
   "outputs": [],
   "source": [
    "min_acres, max_acres = 0.9, 20.1\n",
    "\n",
    "df      = pd.read_json(f'{OUTPUT_DIR}/output_taylor/output_taylor.json')\n",
    "df      = df[good_address(df.owner_address.values)]\n",
    "df      = df[df.absentee & df.empty_land & ~df.inactive ]\n",
    "df      = df[(~df.recent_penalty.values.astype(bool)) & df.recent_delinq.values.astype(bool)]\n",
    "df      = df[~df.zoning.isin(BAD_ZONING)]\n",
    "col_set = set(df.columns)-{'absentee', 'empty_land', 'inactive', 'land_dict', 'property_use'}\n",
    "df      = df[[*col_set]]\n",
    "df      = df.sort_values(by='recent_penalty', ascending=False)\n",
    "df      = df[(df.land_area <= max_acres) & (min_acres <= df.land_area)]"
   ]
  },
  {
   "cell_type": "code",
   "execution_count": 22,
   "metadata": {},
   "outputs": [],
   "source": [
    "df_mailing         = df_to_click2mail(df)\n",
    "df_mailing         = remove_bad_owners(df_mailing)\n",
    "already_sent_names = pd.read_csv(f'{OUTPUT_DIR}/ml_penalty20_wylie10.csv')['Name']\n",
    "df_mailing         = df_mailing[~df_mailing.Name.isin(already_sent_names.values)]"
   ]
  },
  {
   "cell_type": "code",
   "execution_count": 13,
   "metadata": {},
   "outputs": [],
   "source": [
    "timestamp = strftime(\"%Y%m%d_%H%M%S\")\n",
    "df_mailing.to_csv(f'{OUTPUT_DIR}/ml_{timestamp}.csv', index=False)"
   ]
  },
  {
   "cell_type": "markdown",
   "metadata": {},
   "source": [
    "**Empty lots in Hawley**"
   ]
  },
  {
   "cell_type": "code",
   "execution_count": 26,
   "metadata": {},
   "outputs": [],
   "source": [
    "df      = pd.read_csv(f'{OUTPUT_DIR}/output_jones/output_jones.csv')\n",
    "df      = df[df.empty_land & df.absentee]\n",
    "df      = df[df.school.str.startswith('HAWLEY')]\n",
    "df      = df[(df.land_area>=0.1) & (df.land_area<=5)]\n",
    "df      = df[df.property_use < 'E'] # residential only\n",
    "df      = remove_bad_owners(df, col='owner_name')"
   ]
  },
  {
   "cell_type": "code",
   "execution_count": 36,
   "metadata": {},
   "outputs": [],
   "source": [
    "df_export = df[['prop_id', 'prop_address', 'owner_name', 'owner_address', 'property_use', 'land_area', \\\n",
    "                'recent_penalty', 'recent_delinq']]\n",
    "df_export.to_csv(f'{OUTPUT_DIR}/hawley_empty.csv', index=False)"
   ]
  },
  {
   "cell_type": "markdown",
   "metadata": {},
   "source": [
    "**Empty residential lots owned by JONES COUNTY IN TRUST**"
   ]
  },
  {
   "cell_type": "code",
   "execution_count": 20,
   "metadata": {},
   "outputs": [],
   "source": [
    "df      = pd.read_csv(f'{OUTPUT_DIR}/output_jones/output_jones.csv')\n",
    "df      = df[df.empty_land & df.absentee]\n",
    "df      = df[df.improvement_value==0]\n",
    "df      = df[df.owner_name.str.startswith('JONES COUNTY IN TRUST')]\n",
    "#df      = df[(df.land_area>=0.1) & (df.land_area<=5)]\n",
    "#df      = df[df.property_use < 'XE'] # residential only\n",
    "#df      = remove_bad_owners(df, col='owner_name')"
   ]
  },
  {
   "cell_type": "code",
   "execution_count": 21,
   "metadata": {},
   "outputs": [],
   "source": [
    "df_sorted = df.sort_values(by='land_area', ascending=False)\n",
    "df_sorted = df_sorted[['prop_id','legal_description', 'prop_address', 'land_area', 'property_use', 'school']]"
   ]
  },
  {
   "cell_type": "code",
   "execution_count": 22,
   "metadata": {},
   "outputs": [],
   "source": [
    "df_sorted.to_csv('/Users/tigrank/temp/trust.csv')"
   ]
  },
  {
   "cell_type": "code",
   "execution_count": 23,
   "metadata": {},
   "outputs": [
    {
     "data": {
      "text/html": [
       "<div>\n",
       "<style scoped>\n",
       "    .dataframe tbody tr th:only-of-type {\n",
       "        vertical-align: middle;\n",
       "    }\n",
       "\n",
       "    .dataframe tbody tr th {\n",
       "        vertical-align: top;\n",
       "    }\n",
       "\n",
       "    .dataframe thead th {\n",
       "        text-align: right;\n",
       "    }\n",
       "</style>\n",
       "<table border=\"1\" class=\"dataframe\">\n",
       "  <thead>\n",
       "    <tr style=\"text-align: right;\">\n",
       "      <th></th>\n",
       "      <th>prop_id</th>\n",
       "      <th>legal_description</th>\n",
       "      <th>prop_address</th>\n",
       "      <th>land_area</th>\n",
       "      <th>property_use</th>\n",
       "      <th>school</th>\n",
       "    </tr>\n",
       "  </thead>\n",
       "  <tbody>\n",
       "    <tr>\n",
       "      <th>8780</th>\n",
       "      <td>21828</td>\n",
       "      <td>A1602 12 BBB AND C  TRACT L, ACRES 3, SUIT TX1...</td>\n",
       "      <td>NaN</td>\n",
       "      <td>3.000</td>\n",
       "      <td>XVC</td>\n",
       "      <td>STAMFORD ISD I&amp;S</td>\n",
       "    </tr>\n",
       "    <tr>\n",
       "      <th>12208</th>\n",
       "      <td>27110</td>\n",
       "      <td>BOMAR HEIGHTS STAMFORD, BLOCK, 140, LOT 2</td>\n",
       "      <td>NaN</td>\n",
       "      <td>2.083</td>\n",
       "      <td>XVC</td>\n",
       "      <td>STAMFORD ISD I&amp;S</td>\n",
       "    </tr>\n",
       "    <tr>\n",
       "      <th>3957</th>\n",
       "      <td>15130</td>\n",
       "      <td>NORTH HAMLIN HAMLIN BLK 28, LOT SE PART  ACRES...</td>\n",
       "      <td>NW AVE E &amp; 11TH</td>\n",
       "      <td>1.000</td>\n",
       "      <td>XVC</td>\n",
       "      <td>HAMLIN ISD I&amp;S</td>\n",
       "    </tr>\n",
       "    <tr>\n",
       "      <th>2043</th>\n",
       "      <td>12619</td>\n",
       "      <td>HAMLIN TOWNSITE HAMLIN, BLK 149 LOT 6</td>\n",
       "      <td>NaN</td>\n",
       "      <td>1.000</td>\n",
       "      <td>XV</td>\n",
       "      <td>HAMLIN ISD I&amp;S</td>\n",
       "    </tr>\n",
       "    <tr>\n",
       "      <th>6186</th>\n",
       "      <td>18134</td>\n",
       "      <td>A1893 10 T AND NO-1, TRACT N/2  (O, F 2 AC TRA...</td>\n",
       "      <td>NaN</td>\n",
       "      <td>1.000</td>\n",
       "      <td>XV</td>\n",
       "      <td>ANSON ISD I&amp;S</td>\n",
       "    </tr>\n",
       "    <tr>\n",
       "      <th>...</th>\n",
       "      <td>...</td>\n",
       "      <td>...</td>\n",
       "      <td>...</td>\n",
       "      <td>...</td>\n",
       "      <td>...</td>\n",
       "      <td>...</td>\n",
       "    </tr>\n",
       "    <tr>\n",
       "      <th>4084</th>\n",
       "      <td>15288</td>\n",
       "      <td>ORIGINAL STAMFORD  BLOCK 113, LOT N 125 OF 8, ...</td>\n",
       "      <td>307 E BUNKLEY</td>\n",
       "      <td>0.143</td>\n",
       "      <td>XV</td>\n",
       "      <td>STAMFORD ISD I&amp;S</td>\n",
       "    </tr>\n",
       "    <tr>\n",
       "      <th>2360</th>\n",
       "      <td>13008</td>\n",
       "      <td>ORIGINAL STAMFORD BLOCK 62, LOT S 54 OF 13-14</td>\n",
       "      <td>410 N WETHERBEE</td>\n",
       "      <td>0.124</td>\n",
       "      <td>XV</td>\n",
       "      <td>STAMFORD ISD I&amp;S</td>\n",
       "    </tr>\n",
       "    <tr>\n",
       "      <th>8382</th>\n",
       "      <td>21239</td>\n",
       "      <td>ORIGINAL STAMFORD, BLOCK 9,, LOT S 50 OF 8  AN...</td>\n",
       "      <td>209 E FERGUSON</td>\n",
       "      <td>0.114</td>\n",
       "      <td>XV</td>\n",
       "      <td>STAMFORD ISD I&amp;S</td>\n",
       "    </tr>\n",
       "    <tr>\n",
       "      <th>11899</th>\n",
       "      <td>26636</td>\n",
       "      <td>Original Avoca BLOCK 13, LOT 12, TX010802</td>\n",
       "      <td>NaN</td>\n",
       "      <td>0.095</td>\n",
       "      <td>XVC</td>\n",
       "      <td>LUEDERS-AVOCA ISD I&amp;S</td>\n",
       "    </tr>\n",
       "    <tr>\n",
       "      <th>2480</th>\n",
       "      <td>13165</td>\n",
       "      <td>ORIGINAL STAMFORD, BLOCK 7, LO, T N/2 OF 14</td>\n",
       "      <td>NaN</td>\n",
       "      <td>0.047</td>\n",
       "      <td>XVC</td>\n",
       "      <td>STAMFORD ISD I&amp;S</td>\n",
       "    </tr>\n",
       "  </tbody>\n",
       "</table>\n",
       "<p>116 rows × 6 columns</p>\n",
       "</div>"
      ],
      "text/plain": [
       "       prop_id                                  legal_description  \\\n",
       "8780     21828  A1602 12 BBB AND C  TRACT L, ACRES 3, SUIT TX1...   \n",
       "12208    27110          BOMAR HEIGHTS STAMFORD, BLOCK, 140, LOT 2   \n",
       "3957     15130  NORTH HAMLIN HAMLIN BLK 28, LOT SE PART  ACRES...   \n",
       "2043     12619              HAMLIN TOWNSITE HAMLIN, BLK 149 LOT 6   \n",
       "6186     18134  A1893 10 T AND NO-1, TRACT N/2  (O, F 2 AC TRA...   \n",
       "...        ...                                                ...   \n",
       "4084     15288  ORIGINAL STAMFORD  BLOCK 113, LOT N 125 OF 8, ...   \n",
       "2360     13008      ORIGINAL STAMFORD BLOCK 62, LOT S 54 OF 13-14   \n",
       "8382     21239  ORIGINAL STAMFORD, BLOCK 9,, LOT S 50 OF 8  AN...   \n",
       "11899    26636          Original Avoca BLOCK 13, LOT 12, TX010802   \n",
       "2480     13165        ORIGINAL STAMFORD, BLOCK 7, LO, T N/2 OF 14   \n",
       "\n",
       "           prop_address  land_area property_use                 school  \n",
       "8780                NaN      3.000          XVC       STAMFORD ISD I&S  \n",
       "12208               NaN      2.083          XVC       STAMFORD ISD I&S  \n",
       "3957    NW AVE E & 11TH      1.000          XVC         HAMLIN ISD I&S  \n",
       "2043                NaN      1.000           XV         HAMLIN ISD I&S  \n",
       "6186                NaN      1.000           XV          ANSON ISD I&S  \n",
       "...                 ...        ...          ...                    ...  \n",
       "4084      307 E BUNKLEY      0.143           XV       STAMFORD ISD I&S  \n",
       "2360    410 N WETHERBEE      0.124           XV       STAMFORD ISD I&S  \n",
       "8382     209 E FERGUSON      0.114           XV       STAMFORD ISD I&S  \n",
       "11899               NaN      0.095          XVC  LUEDERS-AVOCA ISD I&S  \n",
       "2480                NaN      0.047          XVC       STAMFORD ISD I&S  \n",
       "\n",
       "[116 rows x 6 columns]"
      ]
     },
     "execution_count": 23,
     "metadata": {},
     "output_type": "execute_result"
    }
   ],
   "source": [
    "df_sorted"
   ]
  },
  {
   "cell_type": "markdown",
   "metadata": {},
   "source": [
    "**Russian speaking owners**"
   ]
  },
  {
   "cell_type": "code",
   "execution_count": 53,
   "metadata": {},
   "outputs": [
    {
     "data": {
      "text/plain": [
       "array(['ABAMISLIMOVA', 'ADRIAN', 'BABAIAN', 'BARBIAN', 'BATKO', 'BOTZKO',\n",
       "       'BRYAN', 'BYKOV', 'CAPKO', 'CHAPKO', 'CHRISTIAN', 'CORDOVA',\n",
       "       'CORPIAN', 'DAMIAN', 'GAMBLIAN', 'GORBENKO', 'HACOPIAN',\n",
       "       'HARCHENKO', 'INDIAN', 'JESKO', 'JULIAN', 'KALAYDZHYAN',\n",
       "       'KARABEGOV', 'KO', 'KOSHELEVA', 'KRUSHEVA', 'LANUEVA', 'LUSKO',\n",
       "       'LUTZKO', 'MARDEROSIAN', 'MIKO', 'MILIAN', 'MUZECHENKO',\n",
       "       'NURMUKHAMEDOV', 'OSKIERKO', 'PANIAN', 'PAYAN', 'PERMIAN',\n",
       "       'PETROVA', 'PHYSICIAN', 'PLISKO', 'PRESBYTERIAN', 'QIAN', 'RHYAN',\n",
       "       'ROYKO', 'RUNYAN', 'RYAN', 'SALAKO', 'SANDLIAN', 'SHAMLIAN',\n",
       "       'SHOMANSUROV', 'SIKES-RYAN', 'UNITARIAN', 'VALORIAN', 'VENETIAN',\n",
       "       'VILLANUEVA', 'VIVIAN', 'VOLCKO', 'ZELEV', 'ZELISKO'], dtype='<U13')"
      ]
     },
     "execution_count": 53,
     "metadata": {},
     "output_type": "execute_result"
    }
   ],
   "source": [
    "df = pd.read_csv(f'{OUTPUT_DIR}/output_taylor/output_taylor.csv')\n",
    "df = df[~df.owner_name.isnull()]\n",
    "\n",
    "names = np.unique(df[df.owner_name.str.contains('^\\S*(ov|ova|ev|eva|ko|ian|yan)\\s', case=False)].owner_name.values)\n",
    "np.unique(list(map(lambda x: x.split()[0], names)))"
   ]
  },
  {
   "cell_type": "markdown",
   "metadata": {},
   "source": [
    "**Largest land owner**"
   ]
  },
  {
   "cell_type": "code",
   "execution_count": 12,
   "metadata": {},
   "outputs": [
    {
     "data": {
      "text/html": [
       "<div>\n",
       "<style scoped>\n",
       "    .dataframe tbody tr th:only-of-type {\n",
       "        vertical-align: middle;\n",
       "    }\n",
       "\n",
       "    .dataframe tbody tr th {\n",
       "        vertical-align: top;\n",
       "    }\n",
       "\n",
       "    .dataframe thead th {\n",
       "        text-align: right;\n",
       "    }\n",
       "</style>\n",
       "<table border=\"1\" class=\"dataframe\">\n",
       "  <thead>\n",
       "    <tr style=\"text-align: right;\">\n",
       "      <th></th>\n",
       "      <th>recent_delinq</th>\n",
       "    </tr>\n",
       "    <tr>\n",
       "      <th>owner_name</th>\n",
       "      <th></th>\n",
       "    </tr>\n",
       "  </thead>\n",
       "  <tbody>\n",
       "    <tr>\n",
       "      <th>WELLTOWER TCG NNN LANDLORD LLC</th>\n",
       "      <td>360432.14</td>\n",
       "    </tr>\n",
       "    <tr>\n",
       "      <th>ER PROPCO WC LLC</th>\n",
       "      <td>238649.50</td>\n",
       "    </tr>\n",
       "    <tr>\n",
       "      <th>ABILENE TEACHERS FEDERAL</th>\n",
       "      <td>152068.55</td>\n",
       "    </tr>\n",
       "    <tr>\n",
       "      <th>WISTERIA HEALTH HOLDINGS LLC</th>\n",
       "      <td>150923.31</td>\n",
       "    </tr>\n",
       "    <tr>\n",
       "      <th>FUNERAL DIRECTORS LIFE INS CO</th>\n",
       "      <td>142362.80</td>\n",
       "    </tr>\n",
       "    <tr>\n",
       "      <th>SPT IVEY ABILENE MOB LLC</th>\n",
       "      <td>141142.33</td>\n",
       "    </tr>\n",
       "    <tr>\n",
       "      <th>TOWER TECH SYSTEMS INC</th>\n",
       "      <td>140908.87</td>\n",
       "    </tr>\n",
       "    <tr>\n",
       "      <th>WHITENER FAMILY LIMITED PTSHP 1</th>\n",
       "      <td>135691.94</td>\n",
       "    </tr>\n",
       "    <tr>\n",
       "      <th>PAK HARRIS ENTERPRISES LTD</th>\n",
       "      <td>125956.91</td>\n",
       "    </tr>\n",
       "    <tr>\n",
       "      <th>PETROSMITH EQUIPMENT LP</th>\n",
       "      <td>122243.38</td>\n",
       "    </tr>\n",
       "    <tr>\n",
       "      <th>LITHIA REAL ESTATE INC</th>\n",
       "      <td>109109.38</td>\n",
       "    </tr>\n",
       "    <tr>\n",
       "      <th>BOTTLING GROUP LLC</th>\n",
       "      <td>92473.97</td>\n",
       "    </tr>\n",
       "    <tr>\n",
       "      <th>DEVELOPMENT CORP OF ABL</th>\n",
       "      <td>84374.44</td>\n",
       "    </tr>\n",
       "    <tr>\n",
       "      <th>STONEHENGE INVESTMENTS LLC</th>\n",
       "      <td>77409.23</td>\n",
       "    </tr>\n",
       "    <tr>\n",
       "      <th>300 WALL STREET LLC</th>\n",
       "      <td>77172.18</td>\n",
       "    </tr>\n",
       "    <tr>\n",
       "      <th>HIT VENTURES LLC</th>\n",
       "      <td>69303.70</td>\n",
       "    </tr>\n",
       "    <tr>\n",
       "      <th>MCRT ABILENE 1 LP</th>\n",
       "      <td>65307.07</td>\n",
       "    </tr>\n",
       "    <tr>\n",
       "      <th>BOLT INC</th>\n",
       "      <td>63110.98</td>\n",
       "    </tr>\n",
       "    <tr>\n",
       "      <th>CASEY TERRY &amp; MARY CATHRYN</th>\n",
       "      <td>59683.51</td>\n",
       "    </tr>\n",
       "    <tr>\n",
       "      <th>RIO MESA HEALTH HOLDINGS LLC</th>\n",
       "      <td>57372.52</td>\n",
       "    </tr>\n",
       "  </tbody>\n",
       "</table>\n",
       "</div>"
      ],
      "text/plain": [
       "                                 recent_delinq\n",
       "owner_name                                    \n",
       "WELLTOWER TCG NNN LANDLORD LLC       360432.14\n",
       "ER PROPCO WC LLC                     238649.50\n",
       "ABILENE TEACHERS FEDERAL             152068.55\n",
       "WISTERIA HEALTH HOLDINGS LLC         150923.31\n",
       "FUNERAL DIRECTORS LIFE INS CO        142362.80\n",
       "SPT IVEY ABILENE MOB LLC             141142.33\n",
       "TOWER TECH SYSTEMS INC               140908.87\n",
       "WHITENER FAMILY LIMITED PTSHP 1      135691.94\n",
       "PAK HARRIS ENTERPRISES LTD           125956.91\n",
       "PETROSMITH EQUIPMENT LP              122243.38\n",
       "LITHIA REAL ESTATE INC               109109.38\n",
       "BOTTLING GROUP LLC                    92473.97\n",
       "DEVELOPMENT CORP OF ABL               84374.44\n",
       "STONEHENGE INVESTMENTS LLC            77409.23\n",
       "300 WALL STREET LLC                   77172.18\n",
       "HIT VENTURES LLC                      69303.70\n",
       "MCRT ABILENE 1 LP                     65307.07\n",
       "BOLT INC                              63110.98\n",
       "CASEY TERRY & MARY CATHRYN            59683.51\n",
       "RIO MESA HEALTH HOLDINGS LLC          57372.52"
      ]
     },
     "execution_count": 12,
     "metadata": {},
     "output_type": "execute_result"
    }
   ],
   "source": [
    "AGGR_KEY = 'recent_delinq'\n",
    "\n",
    "df    = pd.read_csv(f'{OUTPUT_DIR}/output_taylor/output_taylor.csv')\n",
    "df    = df[~df.owner_name.isnull()]\n",
    "df[['owner_name', AGGR_KEY]].groupby('owner_name').sum().sort_values(ascending=False, by=AGGR_KEY)[:20]"
   ]
  },
  {
   "cell_type": "code",
   "execution_count": null,
   "metadata": {},
   "outputs": [],
   "source": []
  }
 ],
 "metadata": {
  "kernelspec": {
   "display_name": "Python 3",
   "language": "python",
   "name": "python3"
  },
  "language_info": {
   "codemirror_mode": {
    "name": "ipython",
    "version": 3
   },
   "file_extension": ".py",
   "mimetype": "text/x-python",
   "name": "python",
   "nbconvert_exporter": "python",
   "pygments_lexer": "ipython3",
   "version": "3.8.5"
  }
 },
 "nbformat": 4,
 "nbformat_minor": 4
}
