{
 "cells": [
  {
   "cell_type": "code",
   "execution_count": 31,
   "metadata": {},
   "outputs": [
    {
     "data": {
      "text/html": [
       "<style>.container { width:200% !important; }</style>"
      ],
      "text/plain": [
       "<IPython.core.display.HTML object>"
      ]
     },
     "metadata": {},
     "output_type": "display_data"
    }
   ],
   "source": [
    "from IPython.core.display import display, HTML\n",
    "display(HTML(\"<style>.container { width:200% !important; }</style>\"))"
   ]
  },
  {
   "cell_type": "code",
   "execution_count": 32,
   "metadata": {},
   "outputs": [],
   "source": [
    "import sys  \n",
    "sys.path.insert(0, '/Users/tigrank/Tigran/programming/cad_parser/bin/')"
   ]
  },
  {
   "cell_type": "code",
   "execution_count": null,
   "metadata": {},
   "outputs": [],
   "source": [
    "import os, time, requests, datetime, contextlib, argparse\n",
    "import regex as re\n",
    "from cad_lib import isnotebook, ROOT_DIR\n",
    "\n",
    "HTTP_ATTEMPTS = 1000\n",
    "CNTY_SFFX     = 'jones'\n",
    "\n",
    "if isnotebook():\n",
    "    from tqdm.notebook import tqdm, trange\n",
    "else:\n",
    "    from tqdm import tqdm, trange\n",
    "\n",
    "def generate_session_id(url='http://www.jonescad.org/search.aspx?clientid=jonescad'):\n",
    "    request_res  = requests.get(url)\n",
    "    assigned_url = request_res.url\n",
    "    session_id   = assigned_url.split('/')[3]\n",
    "    assert re.match('\\(S\\(.*\\)\\)', idd), \"Wrong format of the session ID\"\n",
    "    \n",
    "    return session_id"
   ]
  },
  {
   "cell_type": "code",
   "execution_count": 100,
   "metadata": {},
   "outputs": [
    {
     "data": {
      "application/vnd.jupyter.widget-view+json": {
       "model_id": "0d47101ab20c4787bb74babd721618a6",
       "version_major": 2,
       "version_minor": 0
      },
      "text/plain": [
       "HBox(children=(HTML(value=''), FloatProgress(value=0.0, max=1.0), HTML(value='')))"
      ]
     },
     "metadata": {},
     "output_type": "display_data"
    },
    {
     "name": "stdout",
     "output_type": "stream",
     "text": [
      "\n"
     ]
    },
    {
     "data": {
      "application/vnd.jupyter.widget-view+json": {
       "model_id": "f77591d2a5714078a5040c492ca68b25",
       "version_major": 2,
       "version_minor": 0
      },
      "text/plain": [
       "HBox(children=(HTML(value=''), FloatProgress(value=0.0, max=1.0), HTML(value='')))"
      ]
     },
     "metadata": {},
     "output_type": "display_data"
    },
    {
     "name": "stdout",
     "output_type": "stream",
     "text": [
      "\n"
     ]
    }
   ],
   "source": [
    "if __name__ == '__main__':\n",
    "\n",
    "    if isnotebook():\n",
    "        fetch_properties, fetch_owners = True, True\n",
    "    else:\n",
    "        parser = argparse.ArgumentParser(description='What to fetch')\n",
    "        parser.add_argument('--properties', type=bool, help='fetch properties', required=False, default=False)\n",
    "        parser.add_argument('--owners', type=bool, help='fetch owners', required=False, default=False)\n",
    "        args   = parser.parse_args()\n",
    "        fetch_properties, fetch_owners = args.properties, args.owners\n",
    "    \n",
    "    data_dir = f'{ROOT_DIR}/data/data_{CNTY_SFFX}'\n",
    "    os.makedirs(data_dir, exist_ok=True)\n",
    "\n",
    "    records_url   = 'http://www.jonescad.org/open_records.htm'\n",
    "    response      = requests.get(records_url)\n",
    "    href_lines    = re.findall(r'<a href=\"open records/[^>]*>', response.text)\n",
    "    filenames     = [tag.strip(r'<a href=\"').strip(r'\">\"').split('\"')[0] for tag in href_lines]\n",
    "    tax_filenames = [fn for fn in filenames if re.match(\".*real.*roll.*\\.xls\", fn.lower())]\n",
    "    \n",
    "    if tax_filenames:\n",
    "        url_appraisal_roll = 'http://www.jonescad.org/'+tax_filenames[-1]\n",
    "        url_appraisal_roll = url_appraisal_roll.replace('&amp;', '&')\n",
    "        response           = requests.get(url_appraisal_roll)\n",
    "        fname              = f'{data_dir}/appraisal_roll.xls'\n",
    "        with open(fname, 'wb') as f:\n",
    "                    f.write(response.content)\n",
    "        \n",
    "    session_id = generate_session_id()\n",
    "    \n",
    "    if fetch_properties: \n",
    "        begin_id, end_id = 15638, 15639 # GET FROM THE APPRAISER XLS!\n",
    "        for prop_id in trange(begin_id, end_id):\n",
    "            url   = f'http://www.jonescad.org/{session_id}/rgeneral.aspx?ID={prop_id}&seq=1'\n",
    "            fname = f'{data_dir}/prop_{prop_id}.html'\n",
    "\n",
    "            for trial in range(HTTP_ATTEMPTS):\n",
    "                response = requests.get(url)\n",
    "\n",
    "                if 'Welcome to the P&amp;A Website!' not in response.text:\n",
    "                    break\n",
    "\n",
    "                if trial==HTTP_ATTEMPTS-1:\n",
    "                    raise Exception(f'Connection timeout at prop_id={prop_id}')\n",
    "\n",
    "                time.sleep(1)\n",
    "                session_id = generate_session_id()\n",
    "\n",
    "            if fr'value=\"{prop_id}\"' not in response.text:\n",
    "                with contextlib.suppress(FileNotFoundError): # delete file, if property was removed from the county website\n",
    "                    os.remove(fname)\n",
    "            else:\n",
    "                with open(fname, 'wb') as f:\n",
    "                    f.write(response.content)\n",
    "                    \n",
    "    if fetch_owners: \n",
    "        begin_id, end_id = 10000, 10001 # change later to 1, 60000\n",
    "        for owner_id in trange(begin_id, end_id):\n",
    "            url   = f'http://www.jonescad.org/{session_id}/ptaxowner.aspx?ID=Pay&Owner={owner_id}&prop=R'\n",
    "            fname = f'{data_dir}/owner_{owner_id:06d}.html'\n",
    "\n",
    "            for trial in range(HTTP_ATTEMPTS):\n",
    "                response = requests.get(url)\n",
    "\n",
    "                if 'Welcome to the P&amp;A Website!' not in response.text:\n",
    "                    break\n",
    "\n",
    "                if trial==HTTP_ATTEMPTS-1:\n",
    "                    raise Exception(f'Connection timeout at owner_id={owner_id}')\n",
    "\n",
    "                time.sleep(1)\n",
    "                session_id = generate_session_id()\n",
    "\n",
    "            if fr'value=\"{owner_id}\"' not in response.text:\n",
    "                with contextlib.suppress(FileNotFoundError): # delete file, if owner was removed from the county website\n",
    "                    os.remove(fname)\n",
    "            else:\n",
    "                with open(fname, 'wb') as f:\n",
    "                    f.write(response.content)"
   ]
  },
  {
   "cell_type": "code",
   "execution_count": null,
   "metadata": {},
   "outputs": [],
   "source": []
  }
 ],
 "metadata": {
  "kernelspec": {
   "display_name": "Python 3",
   "language": "python",
   "name": "python3"
  },
  "language_info": {
   "codemirror_mode": {
    "name": "ipython",
    "version": 3
   },
   "file_extension": ".py",
   "mimetype": "text/x-python",
   "name": "python",
   "nbconvert_exporter": "python",
   "pygments_lexer": "ipython3",
   "version": "3.8.5"
  }
 },
 "nbformat": 4,
 "nbformat_minor": 4
}
