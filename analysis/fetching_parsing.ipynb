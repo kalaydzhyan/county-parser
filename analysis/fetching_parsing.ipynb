{
 "cells": [
  {
   "cell_type": "code",
   "execution_count": 19,
   "metadata": {},
   "outputs": [
    {
     "data": {
      "text/html": [
       "<style>.container { width:200% !important; }</style>"
      ],
      "text/plain": [
       "<IPython.core.display.HTML object>"
      ]
     },
     "metadata": {},
     "output_type": "display_data"
    }
   ],
   "source": [
    "from IPython.core.display import display, HTML\n",
    "display(HTML(\"<style>.container { width:200% !important; }</style>\"))"
   ]
  },
  {
   "cell_type": "code",
   "execution_count": 23,
   "metadata": {},
   "outputs": [],
   "source": [
    "import os, subprocess, glob\n",
    "\n",
    "#### change this later \n",
    "ROOT_DIR  = '/Users/tigrank/Tigran/programming/cad_parser'\n",
    "CNTY_SFFX = 'callahan'\n",
    "    \n",
    "if __name__ == '__main__':\n",
    "\n",
    "    output_dir = f'{ROOT_DIR}/output/output_{CNTY_SFFX}'\n",
    "    os.makedirs(output_dir, exist_ok=True) \n",
    "    for fname in glob.glob(f'{ROOT_DIR}/data/data_{CNTY_SFFX}/*CALLAHAN*.pdf'):\n",
    "        args   = [\"ps2ascii\", fname]\n",
    "        res    = subprocess.run(args, stdout=subprocess.PIPE, stderr=subprocess.PIPE)\n",
    "        output = res.stdout.decode('utf-8')\n",
    "        lines  = output.split('\\n')\n",
    "        \n",
    "        break #remove after finished"
   ]
  },
  {
   "cell_type": "code",
   "execution_count": 46,
   "metadata": {},
   "outputs": [],
   "source": [
    "# extract all properties\n",
    "lines       = [line.strip('\\r') for line in lines]\n",
    "first_lines = [i for i, line in enumerate(lines) if ' ID:' in line]\n",
    "last_lines  = [i+2 for i, line in enumerate(lines) if '=====' in line]\n",
    "ids         = [lines[i][11:21] for i in first_lines]\n",
    "ranges      = list(zip(first_lines, last_lines))\n",
    "properties  = {idd: lines[slice(*ranges[i])] for i, idd in enumerate(ids)}\n",
    "\n",
    "# find column positions \n",
    "keys = [key.strip() for key in lines[3].split('    ') if key]\n",
    "first_positions = [lines[3].find(key) for key in keys]\n",
    "last_positions  = first_positions[1:]+[None]\n",
    "positions = dict(zip(keys, zip(first_positions, last_positions)))"
   ]
  },
  {
   "cell_type": "code",
   "execution_count": 71,
   "metadata": {},
   "outputs": [
    {
     "data": {
      "text/plain": [
       "['        ID:R000017166 / 2020                        PURYEAR BRIAN                          SUBD: HALEY - CP, BLK: 3, LOT: 11-12                             VOL:  PG:  DT: 11/16/2016                          A1      IMP HS                   30,410',\n",
       " '        GEO:7706000301100                           388 CR 523                                                                                              NBH: MULTI                                         A1      LND HS                     1,500',\n",
       " '        SITUS: 117 S BEECH ST                       BAIRD, TX 79504                                                                                         MISC: M                                                    TOTAL MKT                31,910',\n",
       " '                                                                                                                                                                                                                       ASSESSED                 31,910',\n",
       " '        YEAR TAXING ENTITIES                                             DLQ DATE     EXEMPTIONS           TAXABLE      RATE PER $100              TAX            PAID        BALANCE             P & I      ATTY FEE     OTHER FEES         TOTAL DUE',\n",
       " '        2020 030 CALLAHAN COUNTY                                        2/1/2021                            31,910        0.00466191           148.76             0.00         148.76             0.00            0.00            0.00          148.76',\n",
       " '        2020 FM FARM ROAD                                               2/1/2021                            31,910        0.00169317             54.03            0.00          54.03             0.00            0.00            0.00            54.03',\n",
       " '        2020 X CITY OF CROSS PLAINS                                     2/1/2021                            31,910        0.00364872           116.43             0.00         116.43             0.00            0.00            0.00          116.43',\n",
       " '        2020 XS CROSS PLAINS ISD                                        2/1/2021                            31,910         0.0101400           323.57             0.00         323.57             0.00            0.00            0.00          323.57',\n",
       " '                                                                                                                                       ====================================================== =========',\n",
       " '                                                                                                                                               642.79             0.00         642.79             0.00            0.00            0.00          642.79']"
      ]
     },
     "execution_count": 71,
     "metadata": {},
     "output_type": "execute_result"
    }
   ],
   "source": [
    "idd = 'R000017166'\n",
    "\n",
    "properties[idd]"
   ]
  },
  {
   "cell_type": "code",
   "execution_count": 70,
   "metadata": {},
   "outputs": [
    {
     "data": {
      "text/plain": [
       "{'ACCOUNT IDENTIFICATION': (8, 52),\n",
       " 'OWNERSHIP': (52, 91),\n",
       " 'LEGAL DESCRIPTION': (91, 156),\n",
       " 'EXEMPTIONS / ADDN CODING': (156, 207),\n",
       " 'PTD': (207, 214),\n",
       " 'TYPE': (214, 235),\n",
       " 'VALUATION': (235, None)}"
      ]
     },
     "execution_count": 70,
     "metadata": {},
     "output_type": "execute_result"
    }
   ],
   "source": [
    "idd = 'R000017166'"
   ]
  }
 ],
 "metadata": {
  "kernelspec": {
   "display_name": "Python 3",
   "language": "python",
   "name": "python3"
  },
  "language_info": {
   "codemirror_mode": {
    "name": "ipython",
    "version": 3
   },
   "file_extension": ".py",
   "mimetype": "text/x-python",
   "name": "python",
   "nbconvert_exporter": "python",
   "pygments_lexer": "ipython3",
   "version": "3.8.5"
  }
 },
 "nbformat": 4,
 "nbformat_minor": 4
}
