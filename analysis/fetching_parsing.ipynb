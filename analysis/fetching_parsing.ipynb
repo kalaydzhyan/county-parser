{
 "cells": [
  {
   "cell_type": "code",
   "execution_count": 25,
   "metadata": {},
   "outputs": [
    {
     "data": {
      "text/html": [
       "<style>.container { width:200% !important; }</style>"
      ],
      "text/plain": [
       "<IPython.core.display.HTML object>"
      ]
     },
     "metadata": {},
     "output_type": "display_data"
    }
   ],
   "source": [
    "from IPython.core.display import display, HTML\n",
    "display(HTML(\"<style>.container { width:200% !important; }</style>\"))"
   ]
  },
  {
   "cell_type": "code",
   "execution_count": 1,
   "metadata": {},
   "outputs": [],
   "source": [
    "import sys  \n",
    "sys.path.insert(0, '/Users/tigrank/Tigran/programming/cad_parser/bin/')"
   ]
  },
  {
   "cell_type": "code",
   "execution_count": 24,
   "metadata": {},
   "outputs": [],
   "source": [
    "import os, time, requests, datetime, contextlib, argparse\n",
    "import regex as re\n",
    "from cad_lib import isnotebook, ROOT_DIR\n",
    "\n",
    "HTTP_ATTEMPTS = 1000\n",
    "CNTY_SFFX     = 'jones'\n",
    "\n",
    "if isnotebook():\n",
    "    from tqdm.notebook import tqdm, trange\n",
    "else:\n",
    "    from tqdm import tqdm, trange\n",
    "\n",
    "def generate_session_id(url='http://www.jonescad.org/search.aspx?clientid=jonescad'):\n",
    "    request_res  = requests.get(url)\n",
    "    assigned_url = request_res.url\n",
    "    session_id   = assigned_url.split('/')[3]\n",
    "    assert re.match('\\(S\\(.*\\)\\)', idd), \"Wrong format of the session ID\"\n",
    "    \n",
    "    return session_id"
   ]
  },
  {
   "cell_type": "code",
   "execution_count": 119,
   "metadata": {},
   "outputs": [],
   "source": [
    "if __name__ == '__main__':\n",
    "\n",
    "    data_dir = f'{ROOT_DIR}/data/output_{CNTY_SFFX}'\n",
    "    os.makedirs(data_dir, exist_ok=True)\n",
    "    \n",
    "    session_id = generate_session_id()\n",
    "    \n",
    "    begin_id, end_id = 1, 20000 # change later\n",
    "    \n",
    "    for prop_id in trange(begin_id, end_id):\n",
    "        url   = f'http://www.jonescad.org/{session_id}/rgeneral.aspx?ID={prop_id}&seq=1'\n",
    "        fname = f'{data_folder}/{prop_id}.html'\n",
    "        \n",
    "        # Handling stale sessions\n",
    "        for trial in range(HTTP_ATTEMPTS):\n",
    "            response = requests.get(url)\n",
    "            \n",
    "            if 'Welcome to the P&amp;A Website!' not in response.text:\n",
    "                break\n",
    "            \n",
    "            if trial==HTTP_ATTEMPTS-1:\n",
    "                raise Exception(f'Connection timeout at prop_id={prop_id}')\n",
    "            \n",
    "            time.sleep(1)\n",
    "            session_id = generate_session_id()"
   ]
  }
 ],
 "metadata": {
  "kernelspec": {
   "display_name": "Python 3",
   "language": "python",
   "name": "python3"
  },
  "language_info": {
   "codemirror_mode": {
    "name": "ipython",
    "version": 3
   },
   "file_extension": ".py",
   "mimetype": "text/x-python",
   "name": "python",
   "nbconvert_exporter": "python",
   "pygments_lexer": "ipython3",
   "version": "3.8.5"
  }
 },
 "nbformat": 4,
 "nbformat_minor": 4
}
