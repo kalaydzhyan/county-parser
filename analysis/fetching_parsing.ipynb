{
 "cells": [
  {
   "cell_type": "code",
   "execution_count": 5,
   "metadata": {},
   "outputs": [],
   "source": [
    "import os, glob, json, time, requests, datetime, contextlib, argparse\n",
    "from bs4 import BeautifulSoup\n",
    "import pandas as pd\n",
    "import numpy as np\n",
    "\n",
    "HTTP_ATTEMPTS = 1000\n",
    "WD            = os.getcwd()\n",
    "\n",
    "def isnotebook():\n",
    "    try:\n",
    "        shell = get_ipython().__class__.__name__\n",
    "        if shell == 'ZMQInteractiveShell':\n",
    "            return True   # Jupyter notebook or qtconsole\n",
    "        elif shell == 'TerminalInteractiveShell':\n",
    "            return False  # Terminal running IPython\n",
    "        else:\n",
    "            return False  # Other type (?)\n",
    "    except NameError:\n",
    "        return False      # Probably standard Python interpreter\n",
    "\n",
    "if isnotebook():\n",
    "    from tqdm.notebook import tqdm, trange\n",
    "else:\n",
    "    from tqdm import tqdm, trange"
   ]
  },
  {
   "cell_type": "code",
   "execution_count": 14,
   "metadata": {},
   "outputs": [
    {
     "data": {
      "application/vnd.jupyter.widget-view+json": {
       "model_id": "fd8a475c2da44650a9f0034bab121fea",
       "version_major": 2,
       "version_minor": 0
      },
      "text/plain": [
       "HBox(children=(HTML(value=''), FloatProgress(value=0.0, max=90000.0), HTML(value='')))"
      ]
     },
     "metadata": {},
     "output_type": "display_data"
    },
    {
     "name": "stdout",
     "output_type": "stream",
     "text": [
      "\n"
     ]
    }
   ],
   "source": [
    "''' Fetching files '''\n",
    "\n",
    "def get_headers(url='https://propaccess.taylor-cad.org/clientdb/?cid=1'):\n",
    "    session         = requests.Session()\n",
    "    response        = session.get(url)\n",
    "    session_cookies = session.cookies.get_dict()\n",
    "    cookie_string   = '; '.join([f'{key}={session_cookies[key]}' for key in session_cookies])\n",
    "    headers         = {\n",
    "                          'cookie': cookie_string,\n",
    "                          'user-agent': 'Mozilla/5.0 (Macintosh; Intel Mac OS X 10_14_0) AppleWebKit/537.36 (KHTML, like Gecko) Chrome/89.0.4389.114 Safari/537.36'\n",
    "                      }\n",
    "    return headers\n",
    "\n",
    "\n",
    "if __name__ == '__main__':\n",
    "    \n",
    "\n",
    "\n",
    "    os.makedirs(f'{WD}/data/', exist_ok=True) \n",
    "    headers = get_headers()\n",
    "\n",
    "    if isnotebook():\n",
    "        begin_id, end_id = 10000, 100000\n",
    "    else:\n",
    "        parser = argparse.ArgumentParser(description='Fetcher range')\n",
    "        parser.add_argument('-begin_id', type=int, help='starting id', required=False, default=10000)\n",
    "        parser.add_argument('-end_id', type=int, help='ending id', required=False, default=1000000)\n",
    "        args = parser.parse_args()\n",
    "        begin_id, end_id = args.begin_id, args.end_id\n",
    "    \n",
    "    for prop_id in trange(begin_id, end_id):\n",
    "        url   = f'https://propaccess.taylor-cad.org/ClientDB/Property.aspx?prop_id={prop_id}'\n",
    "        fname = f'{WD}/data/{prop_id}.html'\n",
    "        \n",
    "        # Handling stale sessions\n",
    "        for trial in range(HTTP_ATTEMPTS):\n",
    "            response = requests.get(url, headers=headers)\n",
    "            \n",
    "            if response.ok:\n",
    "                break\n",
    "            \n",
    "            if trial==HTTP_ATTEMPTS-1:\n",
    "                raise Exception(f'Connection timeout at prop_id={prop_id}')\n",
    "            \n",
    "            time.sleep(1)\n",
    "            headers  = get_headers()\n",
    "            \n",
    "        if 'Property not found.' in response.text:\n",
    "            with contextlib.suppress(FileNotFoundError): # delete file, if property was removed from the county website\n",
    "                os.remove(fname)\n",
    "        else:\n",
    "            with open(fname, 'wb') as f:\n",
    "                f.write(response.content)"
   ]
  },
  {
   "cell_type": "code",
   "execution_count": 30,
   "metadata": {},
   "outputs": [
    {
     "data": {
      "application/vnd.jupyter.widget-view+json": {
       "model_id": "101b701ec14246feb0474fcbe265f176",
       "version_major": 2,
       "version_minor": 0
      },
      "text/plain": [
       "HBox(children=(HTML(value=''), FloatProgress(value=0.0, max=60361.0), HTML(value='')))"
      ]
     },
     "metadata": {},
     "output_type": "display_data"
    },
    {
     "name": "stdout",
     "output_type": "stream",
     "text": [
      "\n"
     ]
    }
   ],
   "source": [
    "''' Parsing files '''\n",
    "\n",
    "if __name__ == '__main__':\n",
    "\n",
    "    total_list = []\n",
    "    \n",
    "    for fname in tqdm(sorted(glob.glob(f'{WD}/data/*.html'))):\n",
    "    \n",
    "        with open(fname, 'rb') as f:\n",
    "            html_text = f.read()\n",
    "\n",
    "        # Skipping personal property, mobile homes, etc.\n",
    "        if b'Type:</td><td>Real' not in html_text or b'No land segments' in html_text:\n",
    "            continue\n",
    "            \n",
    "        inactive           = b'(INACTIVE)' in html_text\n",
    "        \n",
    "        try:\n",
    "            soup               = BeautifulSoup(html_text, 'html.parser')\n",
    "            tax_object         = soup.find(id=\"taxDueDetails_dataSection\")\n",
    "            table_entries      = tax_object.find_all('td')\n",
    "            second_total_idx   = [index for index, s in enumerate(table_entries) if 'TOTAL' in s.text][1]\n",
    "            recent_penalty     = float(table_entries[second_total_idx+5].text[1:])\n",
    "        except:\n",
    "            continue\n",
    "        \n",
    "        try:\n",
    "            idx = next(table_entries.index(x) for x in table_entries if f'{datetime.datetime.now().year-1} TOTAL' in x.text)\n",
    "            recent_delinquency = float(table_entries[idx+7].text[1:])\n",
    "        except: # mostly ValueError and StopIteration\n",
    "            recent_delinquency = 0.0\n",
    "        \n",
    "        try:\n",
    "            school_line = next(x.text for x in table_entries if 'ISD' in x.text)\n",
    "            school = school_line.split()[0]\n",
    "            school = school.strip()\n",
    "        except StopIteration:\n",
    "            school = 'Unknown'\n",
    "        \n",
    "        # We only want properties that are tax delinquent \n",
    "        #if not recent_penalty:\n",
    "        #    continue\n",
    "            \n",
    "        property_details  = soup.find(id=\"propertyDetails\").find_all('td')\n",
    "        prop_id           = int(property_details[2].text)\n",
    "        legal_description = property_details[4].text\n",
    "        property_use      = property_details[18].text\n",
    "        prop_address      = property_details[23].text\n",
    "        owner_name        = property_details[34].text\n",
    "        owner_address     = ', '.join([s.strip() for s in property_details[38].strings])\n",
    "        absentee          = 'HS' not in property_details[-1].text\n",
    "        empty_land        = b'No improvements exist for this property.' in html_text\n",
    "        \n",
    "        land_details      = soup.find(id=\"landDetails\").find_all('td')\n",
    "        land_textarray    = [s.text for s in land_details]\n",
    "        stride            = 9\n",
    "        land_types        = land_textarray[2::9]\n",
    "        land_areas        = [float(s) for s in land_textarray[3::9]]\n",
    "        land_area         = sum(land_areas)\n",
    "        land_dict         = dict(zip(land_types, land_areas))\n",
    "        zoning            = land_types[0] if len(land_types)==1 else 'Mixed' if land_types else 'Unknown'\n",
    "        \n",
    "        \n",
    "        prop_dict         = {\n",
    "                                'prop_id'          : prop_id,\n",
    "                                'legal_description': legal_description,\n",
    "                                'prop_address'     : prop_address,\n",
    "                                'owner_name'       : owner_name,\n",
    "                                'owner_address'    : owner_address,\n",
    "                                'absentee'         : absentee,\n",
    "                                'empty_land'       : empty_land,\n",
    "                                'property_use'     : property_use,\n",
    "                                'zoning'           : zoning,\n",
    "                                'land_area'        : land_area,\n",
    "                                'land_dict'        : land_dict,\n",
    "                                'recent_penalty'   : recent_penalty,\n",
    "                                'recent_delinq'    : recent_delinquency,\n",
    "                                'school'           : school,\n",
    "                                'inactive'         : inactive\n",
    "                            }\n",
    "        \n",
    "        total_list.append(prop_dict)\n",
    "        \n",
    "    if total_list:\n",
    "        with open(f'{WD}/output.json', 'w') as json_f:\n",
    "            json_f.write(json.dumps(total_list))"
   ]
  },
  {
   "cell_type": "code",
   "execution_count": 31,
   "metadata": {},
   "outputs": [],
   "source": [
    "df = pd.DataFrame(total_list)"
   ]
  },
  {
   "cell_type": "code",
   "execution_count": 32,
   "metadata": {},
   "outputs": [],
   "source": [
    "df.to_csv(f'{WD}/output.csv', index = False)\n",
    "df.to_excel(f'{WD}/output.xls', index = False)"
   ]
  },
  {
   "cell_type": "code",
   "execution_count": null,
   "metadata": {},
   "outputs": [],
   "source": []
  }
 ],
 "metadata": {
  "kernelspec": {
   "display_name": "Python 3",
   "language": "python",
   "name": "python3"
  },
  "language_info": {
   "codemirror_mode": {
    "name": "ipython",
    "version": 3
   },
   "file_extension": ".py",
   "mimetype": "text/x-python",
   "name": "python",
   "nbconvert_exporter": "python",
   "pygments_lexer": "ipython3",
   "version": "3.8.5"
  }
 },
 "nbformat": 4,
 "nbformat_minor": 4
}
