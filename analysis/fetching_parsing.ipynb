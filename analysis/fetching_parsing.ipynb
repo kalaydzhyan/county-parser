{
 "cells": [
  {
   "cell_type": "code",
   "execution_count": 1,
   "metadata": {},
   "outputs": [
    {
     "data": {
      "text/html": [
       "<style>.container { width:200% !important; }</style>"
      ],
      "text/plain": [
       "<IPython.core.display.HTML object>"
      ]
     },
     "metadata": {},
     "output_type": "display_data"
    }
   ],
   "source": [
    "from IPython.core.display import display, HTML\n",
    "display(HTML(\"<style>.container { width:200% !important; }</style>\"))"
   ]
  },
  {
   "cell_type": "code",
   "execution_count": 2,
   "metadata": {},
   "outputs": [],
   "source": [
    "import sys\n",
    "import numpy as np\n",
    "sys.path.insert(0, '/Users/tigrank/Tigran/programming/cad_parser/bin/')"
   ]
  },
  {
   "cell_type": "code",
   "execution_count": 3,
   "metadata": {},
   "outputs": [],
   "source": [
    "#driver.find_elements_by_xpath(\"//select[@name='ddlSearchType']/option[text()='Current Owner']\")[0].click()"
   ]
  },
  {
   "cell_type": "code",
   "execution_count": 4,
   "metadata": {},
   "outputs": [
    {
     "name": "stdout",
     "output_type": "stream",
     "text": [
      "WARNING *** file size (11274442) not 512 + multiple of sector size (512)\n",
      "WARNING *** OLE2 inconsistency: SSCS size is 0 but SSAT size is non-zero\n"
     ]
    },
    {
     "data": {
      "image/png": "[encoded data removed]",
      "text/plain": [
       "<Figure size 432x288 with 1 Axes>"
      ]
     },
     "metadata": {
      "needs_background": "light"
     },
     "output_type": "display_data"
    }
   ],
   "source": [
    "####### Jones county owner's range #######\n",
    "\n",
    "from fetcher_jones import jones_import_ids\n",
    "import matplotlib.pyplot as plt\n",
    "\n",
    "fname = '/Users/tigrank/Tigran/programming/cad_parser/data/data_jones/appraisal_roll.xls'\n",
    "owner_ids, property_ids = jones_import_ids(fname)\n",
    "bins = np.arange(1, 60000, 1000)\n",
    "plt.hist(owner_ids, bins = bins) \n",
    "plt.title(\"histogram\") \n",
    "plt.show()"
   ]
  },
  {
   "cell_type": "code",
   "execution_count": 9,
   "metadata": {},
   "outputs": [],
   "source": [
    "import pandas as pd\n",
    "import numpy as np\n",
    "\n",
    "df = pd.read_csv('/Users/tigrank/Tigran/programming/cad_parser/output/output_jones/output_jones.csv')\n",
    "\n",
    "props_line = '17930, 15779, 26413, 13453, 27995, 15120, 21493, 23067, 22238, 22578, \\\n",
    "                25043, 22661, 16837, 15626, 16064, 16717, 18107, 14756'\n",
    "prop_ids   = props_line.split(',')\n",
    "prop_ids   = list(map(lambda x: int(x.strip()), prop_ids))\n",
    "df         = df[np.isin(df.prop_id.values, prop_ids)]\n",
    "\n",
    "#manual fix of one wrong value\n",
    "#idx        = df.index[df.prop_id==27222][0]\n",
    "#if idx:\n",
    "#    df.at[idx, 'land_area'] *= 4"
   ]
  },
  {
   "cell_type": "code",
   "execution_count": 10,
   "metadata": {},
   "outputs": [
    {
     "data": {
      "text/plain": [
       "5.054999999999998"
      ]
     },
     "execution_count": 10,
     "metadata": {},
     "output_type": "execute_result"
    }
   ],
   "source": [
    "np.sum(df.land_area)"
   ]
  },
  {
   "cell_type": "code",
   "execution_count": 11,
   "metadata": {},
   "outputs": [
    {
     "data": {
      "text/plain": [
       "18"
      ]
     },
     "execution_count": 11,
     "metadata": {},
     "output_type": "execute_result"
    }
   ],
   "source": [
    "len(df)"
   ]
  },
  {
   "cell_type": "code",
   "execution_count": 12,
   "metadata": {},
   "outputs": [],
   "source": [
    "#df.land_area = (df.land_area*100).astype(int)/100\n",
    "df['price'] = df['land_area']*8000\n",
    "df.price = df.price.astype(int)"
   ]
  },
  {
   "cell_type": "code",
   "execution_count": 13,
   "metadata": {},
   "outputs": [],
   "source": [
    "#df_sale = df[['prop_id', 'legal_description', 'prop_address', 'land_area', 'price', 'school']]\n",
    "df_sale = df[['prop_id', 'legal_description', 'prop_address', 'land_area', 'school']]"
   ]
  },
  {
   "cell_type": "code",
   "execution_count": 14,
   "metadata": {},
   "outputs": [
    {
     "data": {
      "text/html": [
       "<div>\n",
       "<style scoped>\n",
       "    .dataframe tbody tr th:only-of-type {\n",
       "        vertical-align: middle;\n",
       "    }\n",
       "\n",
       "    .dataframe tbody tr th {\n",
       "        vertical-align: top;\n",
       "    }\n",
       "\n",
       "    .dataframe thead th {\n",
       "        text-align: right;\n",
       "    }\n",
       "</style>\n",
       "<table border=\"1\" class=\"dataframe\">\n",
       "  <thead>\n",
       "    <tr style=\"text-align: right;\">\n",
       "      <th></th>\n",
       "      <th>prop_id</th>\n",
       "      <th>legal_description</th>\n",
       "      <th>prop_address</th>\n",
       "      <th>land_area</th>\n",
       "      <th>school</th>\n",
       "    </tr>\n",
       "  </thead>\n",
       "  <tbody>\n",
       "    <tr>\n",
       "      <th>2712</th>\n",
       "      <td>13453</td>\n",
       "      <td>HAMLIN TOWNSITE HAMLIN BLK 17, LOT 9</td>\n",
       "      <td>NaN</td>\n",
       "      <td>0.161</td>\n",
       "      <td>HAMLIN ISD I&amp;S</td>\n",
       "    </tr>\n",
       "    <tr>\n",
       "      <th>3689</th>\n",
       "      <td>14756</td>\n",
       "      <td>MCGAUGHY ANSON, BLOCK 2, LOT 1</td>\n",
       "      <td>NaN</td>\n",
       "      <td>0.172</td>\n",
       "      <td>ANSON ISD I&amp;S</td>\n",
       "    </tr>\n",
       "    <tr>\n",
       "      <th>3951</th>\n",
       "      <td>15120</td>\n",
       "      <td>NORTH HAMLIN HAMLIN, ALL BLK 12</td>\n",
       "      <td>NaN</td>\n",
       "      <td>2.066</td>\n",
       "      <td>HAMLIN ISD I&amp;S</td>\n",
       "    </tr>\n",
       "    <tr>\n",
       "      <th>4361</th>\n",
       "      <td>15626</td>\n",
       "      <td>HOOVER ANSON, BLOCK 4,, LOT 24 AND 26,</td>\n",
       "      <td>11TH</td>\n",
       "      <td>0.192</td>\n",
       "      <td>ANSON ISD I&amp;S</td>\n",
       "    </tr>\n",
       "    <tr>\n",
       "      <th>4476</th>\n",
       "      <td>15779</td>\n",
       "      <td>HAMLIN TOWNSITE HAMLIN  BLK 35, LOT 10</td>\n",
       "      <td>NaN</td>\n",
       "      <td>0.161</td>\n",
       "      <td>HAMLIN ISD I&amp;S</td>\n",
       "    </tr>\n",
       "    <tr>\n",
       "      <th>4706</th>\n",
       "      <td>16064</td>\n",
       "      <td>HOOVER ANSON, BLOCK 4, LOT 28</td>\n",
       "      <td>11TH STREET</td>\n",
       "      <td>0.096</td>\n",
       "      <td>ANSON ISD I&amp;S</td>\n",
       "    </tr>\n",
       "    <tr>\n",
       "      <th>5179</th>\n",
       "      <td>16717</td>\n",
       "      <td>HOOVER ANSON, BLOCK 4, LOT 30,, 32,34</td>\n",
       "      <td>12TH STREET</td>\n",
       "      <td>0.289</td>\n",
       "      <td>ANSON ISD I&amp;S</td>\n",
       "    </tr>\n",
       "    <tr>\n",
       "      <th>5254</th>\n",
       "      <td>16837</td>\n",
       "      <td>HOOVER ANSON, BLOCK 3, LOT 20,  AND  22</td>\n",
       "      <td>1622 11TH</td>\n",
       "      <td>0.193</td>\n",
       "      <td>ANSON ISD I&amp;S</td>\n",
       "    </tr>\n",
       "    <tr>\n",
       "      <th>6022</th>\n",
       "      <td>17930</td>\n",
       "      <td>ORIGINAL STAMFORD, BLOCK 38,, LOT 6</td>\n",
       "      <td>404 S BERTHELOT</td>\n",
       "      <td>0.189</td>\n",
       "      <td>STAMFORD ISD I&amp;S</td>\n",
       "    </tr>\n",
       "    <tr>\n",
       "      <th>6161</th>\n",
       "      <td>18107</td>\n",
       "      <td>SEARS ANSON, BLOCK 4,, LOT W/2 OF 4</td>\n",
       "      <td>NaN</td>\n",
       "      <td>0.161</td>\n",
       "      <td>ANSON ISD I&amp;S</td>\n",
       "    </tr>\n",
       "    <tr>\n",
       "      <th>8559</th>\n",
       "      <td>21493</td>\n",
       "      <td>SOUTHSIDE STAMFORD, BLOCK 3, LOT 3  AND  N/2 OF 4</td>\n",
       "      <td>NaN</td>\n",
       "      <td>0.284</td>\n",
       "      <td>STAMFORD ISD I&amp;S</td>\n",
       "    </tr>\n",
       "    <tr>\n",
       "      <th>9045</th>\n",
       "      <td>22238</td>\n",
       "      <td>HOOVER ANSON, BLOCK 3, LOT 19,  AND  21</td>\n",
       "      <td>NaN</td>\n",
       "      <td>0.193</td>\n",
       "      <td>ANSON ISD I&amp;S</td>\n",
       "    </tr>\n",
       "    <tr>\n",
       "      <th>9269</th>\n",
       "      <td>22578</td>\n",
       "      <td>HOOVER ANSON, BLOCK 4, LOT 23,  AND  25</td>\n",
       "      <td>12TH ST</td>\n",
       "      <td>0.192</td>\n",
       "      <td>ANSON ISD I&amp;S</td>\n",
       "    </tr>\n",
       "    <tr>\n",
       "      <th>9324</th>\n",
       "      <td>22661</td>\n",
       "      <td>HOOVER ANSON, BLOCK 3, LOT 18</td>\n",
       "      <td>1608 12TH</td>\n",
       "      <td>0.096</td>\n",
       "      <td>ANSON ISD I&amp;S</td>\n",
       "    </tr>\n",
       "    <tr>\n",
       "      <th>9594</th>\n",
       "      <td>23067</td>\n",
       "      <td>HOOVER ANSON, BLOCK 3, LOT 17</td>\n",
       "      <td>1607 12TH</td>\n",
       "      <td>0.096</td>\n",
       "      <td>ANSON ISD I&amp;S</td>\n",
       "    </tr>\n",
       "    <tr>\n",
       "      <th>10912</th>\n",
       "      <td>25043</td>\n",
       "      <td>HOOVER ANSON, BLOCK 4, LOT 27,  AND  29</td>\n",
       "      <td>12TH ST</td>\n",
       "      <td>0.192</td>\n",
       "      <td>ANSON ISD I&amp;S</td>\n",
       "    </tr>\n",
       "    <tr>\n",
       "      <th>11749</th>\n",
       "      <td>26413</td>\n",
       "      <td>HAMLIN TOWNSITE HAMLIN BLK 35, LOT S 42 OF 3  ...</td>\n",
       "      <td>NaN</td>\n",
       "      <td>0.161</td>\n",
       "      <td>HAMLIN ISD I&amp;S</td>\n",
       "    </tr>\n",
       "    <tr>\n",
       "      <th>12819</th>\n",
       "      <td>27995</td>\n",
       "      <td>HAMLIN TOWNSITE HAMLIN BLK 55, LOT 9</td>\n",
       "      <td>NaN</td>\n",
       "      <td>0.161</td>\n",
       "      <td>HAMLIN ISD I&amp;S</td>\n",
       "    </tr>\n",
       "  </tbody>\n",
       "</table>\n",
       "</div>"
      ],
      "text/plain": [
       "       prop_id                                  legal_description  \\\n",
       "2712     13453               HAMLIN TOWNSITE HAMLIN BLK 17, LOT 9   \n",
       "3689     14756                     MCGAUGHY ANSON, BLOCK 2, LOT 1   \n",
       "3951     15120                    NORTH HAMLIN HAMLIN, ALL BLK 12   \n",
       "4361     15626             HOOVER ANSON, BLOCK 4,, LOT 24 AND 26,   \n",
       "4476     15779             HAMLIN TOWNSITE HAMLIN  BLK 35, LOT 10   \n",
       "4706     16064                      HOOVER ANSON, BLOCK 4, LOT 28   \n",
       "5179     16717              HOOVER ANSON, BLOCK 4, LOT 30,, 32,34   \n",
       "5254     16837            HOOVER ANSON, BLOCK 3, LOT 20,  AND  22   \n",
       "6022     17930                ORIGINAL STAMFORD, BLOCK 38,, LOT 6   \n",
       "6161     18107                SEARS ANSON, BLOCK 4,, LOT W/2 OF 4   \n",
       "8559     21493  SOUTHSIDE STAMFORD, BLOCK 3, LOT 3  AND  N/2 OF 4   \n",
       "9045     22238            HOOVER ANSON, BLOCK 3, LOT 19,  AND  21   \n",
       "9269     22578            HOOVER ANSON, BLOCK 4, LOT 23,  AND  25   \n",
       "9324     22661                      HOOVER ANSON, BLOCK 3, LOT 18   \n",
       "9594     23067                      HOOVER ANSON, BLOCK 3, LOT 17   \n",
       "10912    25043            HOOVER ANSON, BLOCK 4, LOT 27,  AND  29   \n",
       "11749    26413  HAMLIN TOWNSITE HAMLIN BLK 35, LOT S 42 OF 3  ...   \n",
       "12819    27995               HAMLIN TOWNSITE HAMLIN BLK 55, LOT 9   \n",
       "\n",
       "          prop_address  land_area            school  \n",
       "2712               NaN      0.161    HAMLIN ISD I&S  \n",
       "3689               NaN      0.172     ANSON ISD I&S  \n",
       "3951               NaN      2.066    HAMLIN ISD I&S  \n",
       "4361              11TH      0.192     ANSON ISD I&S  \n",
       "4476               NaN      0.161    HAMLIN ISD I&S  \n",
       "4706       11TH STREET      0.096     ANSON ISD I&S  \n",
       "5179       12TH STREET      0.289     ANSON ISD I&S  \n",
       "5254         1622 11TH      0.193     ANSON ISD I&S  \n",
       "6022   404 S BERTHELOT      0.189  STAMFORD ISD I&S  \n",
       "6161               NaN      0.161     ANSON ISD I&S  \n",
       "8559               NaN      0.284  STAMFORD ISD I&S  \n",
       "9045               NaN      0.193     ANSON ISD I&S  \n",
       "9269           12TH ST      0.192     ANSON ISD I&S  \n",
       "9324         1608 12TH      0.096     ANSON ISD I&S  \n",
       "9594         1607 12TH      0.096     ANSON ISD I&S  \n",
       "10912          12TH ST      0.192     ANSON ISD I&S  \n",
       "11749              NaN      0.161    HAMLIN ISD I&S  \n",
       "12819              NaN      0.161    HAMLIN ISD I&S  "
      ]
     },
     "execution_count": 14,
     "metadata": {},
     "output_type": "execute_result"
    }
   ],
   "source": [
    "#df_sale.style.hide_index()\n",
    "df_sale"
   ]
  },
  {
   "cell_type": "code",
   "execution_count": 15,
   "metadata": {},
   "outputs": [
    {
     "data": {
      "text/plain": [
       "1.7"
      ]
     },
     "execution_count": 15,
     "metadata": {},
     "output_type": "execute_result"
    }
   ],
   "source": [
    "df_anson_cluster = df_sale[df_sale.school.str.startswith('ANSON') & (~df_sale.prop_id.isin(['28952', '14756']))]\n",
    "np.sum(df_anson_cluster.land_area)"
   ]
  },
  {
   "cell_type": "code",
   "execution_count": 8,
   "metadata": {},
   "outputs": [
    {
     "data": {
      "text/html": [
       "<div>\n",
       "<style scoped>\n",
       "    .dataframe tbody tr th:only-of-type {\n",
       "        vertical-align: middle;\n",
       "    }\n",
       "\n",
       "    .dataframe tbody tr th {\n",
       "        vertical-align: top;\n",
       "    }\n",
       "\n",
       "    .dataframe thead th {\n",
       "        text-align: right;\n",
       "    }\n",
       "</style>\n",
       "<table border=\"1\" class=\"dataframe\">\n",
       "  <thead>\n",
       "    <tr style=\"text-align: right;\">\n",
       "      <th></th>\n",
       "      <th>prop_id</th>\n",
       "      <th>legal_description</th>\n",
       "      <th>land_area</th>\n",
       "      <th>school</th>\n",
       "    </tr>\n",
       "  </thead>\n",
       "  <tbody>\n",
       "    <tr>\n",
       "      <th>2712</th>\n",
       "      <td>13453</td>\n",
       "      <td>HAMLIN TOWNSITE HAMLIN BLK 17, LOT 9</td>\n",
       "      <td>0.161</td>\n",
       "      <td>HAMLIN ISD I&amp;S</td>\n",
       "    </tr>\n",
       "    <tr>\n",
       "      <th>3689</th>\n",
       "      <td>14756</td>\n",
       "      <td>MCGAUGHY ANSON, BLOCK 2, LOT 1</td>\n",
       "      <td>0.172</td>\n",
       "      <td>ANSON ISD I&amp;S</td>\n",
       "    </tr>\n",
       "    <tr>\n",
       "      <th>3951</th>\n",
       "      <td>15120</td>\n",
       "      <td>NORTH HAMLIN HAMLIN, ALL BLK 12</td>\n",
       "      <td>2.066</td>\n",
       "      <td>HAMLIN ISD I&amp;S</td>\n",
       "    </tr>\n",
       "    <tr>\n",
       "      <th>4476</th>\n",
       "      <td>15779</td>\n",
       "      <td>HAMLIN TOWNSITE HAMLIN  BLK 35, LOT 10</td>\n",
       "      <td>0.161</td>\n",
       "      <td>HAMLIN ISD I&amp;S</td>\n",
       "    </tr>\n",
       "    <tr>\n",
       "      <th>8559</th>\n",
       "      <td>21493</td>\n",
       "      <td>SOUTHSIDE STAMFORD, BLOCK 3, LOT 3  AND  N/2 OF 4</td>\n",
       "      <td>0.284</td>\n",
       "      <td>STAMFORD ISD I&amp;S</td>\n",
       "    </tr>\n",
       "    <tr>\n",
       "      <th>11749</th>\n",
       "      <td>26413</td>\n",
       "      <td>HAMLIN TOWNSITE HAMLIN BLK 35, LOT S 42 OF 3  ...</td>\n",
       "      <td>0.161</td>\n",
       "      <td>HAMLIN ISD I&amp;S</td>\n",
       "    </tr>\n",
       "    <tr>\n",
       "      <th>12281</th>\n",
       "      <td>27222</td>\n",
       "      <td>HAMLIN TOWNSITE HAMLIN BLK 60, LOT 1-4</td>\n",
       "      <td>0.644</td>\n",
       "      <td>HAMLIN ISD I&amp;S</td>\n",
       "    </tr>\n",
       "    <tr>\n",
       "      <th>12819</th>\n",
       "      <td>27995</td>\n",
       "      <td>HAMLIN TOWNSITE HAMLIN BLK 55, LOT 9</td>\n",
       "      <td>0.161</td>\n",
       "      <td>HAMLIN ISD I&amp;S</td>\n",
       "    </tr>\n",
       "    <tr>\n",
       "      <th>13491</th>\n",
       "      <td>28952</td>\n",
       "      <td>MCGAUGHY ANSON, BLOCK 10, LOT, 7</td>\n",
       "      <td>0.172</td>\n",
       "      <td>ANSON ISD I&amp;S</td>\n",
       "    </tr>\n",
       "  </tbody>\n",
       "</table>\n",
       "</div>"
      ],
      "text/plain": [
       "       prop_id                                  legal_description  land_area  \\\n",
       "2712     13453               HAMLIN TOWNSITE HAMLIN BLK 17, LOT 9      0.161   \n",
       "3689     14756                     MCGAUGHY ANSON, BLOCK 2, LOT 1      0.172   \n",
       "3951     15120                    NORTH HAMLIN HAMLIN, ALL BLK 12      2.066   \n",
       "4476     15779             HAMLIN TOWNSITE HAMLIN  BLK 35, LOT 10      0.161   \n",
       "8559     21493  SOUTHSIDE STAMFORD, BLOCK 3, LOT 3  AND  N/2 OF 4      0.284   \n",
       "11749    26413  HAMLIN TOWNSITE HAMLIN BLK 35, LOT S 42 OF 3  ...      0.161   \n",
       "12281    27222             HAMLIN TOWNSITE HAMLIN BLK 60, LOT 1-4      0.644   \n",
       "12819    27995               HAMLIN TOWNSITE HAMLIN BLK 55, LOT 9      0.161   \n",
       "13491    28952                   MCGAUGHY ANSON, BLOCK 10, LOT, 7      0.172   \n",
       "\n",
       "                 school  \n",
       "2712     HAMLIN ISD I&S  \n",
       "3689      ANSON ISD I&S  \n",
       "3951     HAMLIN ISD I&S  \n",
       "4476     HAMLIN ISD I&S  \n",
       "8559   STAMFORD ISD I&S  \n",
       "11749    HAMLIN ISD I&S  \n",
       "12281    HAMLIN ISD I&S  \n",
       "12819    HAMLIN ISD I&S  \n",
       "13491     ANSON ISD I&S  "
      ]
     },
     "execution_count": 8,
     "metadata": {},
     "output_type": "execute_result"
    }
   ],
   "source": [
    "mobile_homes_line = '13453, 14756, 15779, 21493, 26413, 27222, 27995, 28952'\n",
    "prop_ids   = mobile_homes_line.split(',')\n",
    "prop_ids   = list(map(lambda x: int(x.strip()), prop_ids))\n",
    "df_mh      = df_sale[(np.isin(df_sale.prop_id.values, prop_ids)) | (df_sale.school.values=='HAMLIN ISD I&S')]\n",
    "df_mh[['prop_id', 'legal_description', 'land_area', 'school']]"
   ]
  },
  {
   "cell_type": "code",
   "execution_count": 13,
   "metadata": {},
   "outputs": [
    {
     "data": {
      "text/html": [
       "<div>\n",
       "<style scoped>\n",
       "    .dataframe tbody tr th:only-of-type {\n",
       "        vertical-align: middle;\n",
       "    }\n",
       "\n",
       "    .dataframe tbody tr th {\n",
       "        vertical-align: top;\n",
       "    }\n",
       "\n",
       "    .dataframe thead th {\n",
       "        text-align: right;\n",
       "    }\n",
       "</style>\n",
       "<table border=\"1\" class=\"dataframe\">\n",
       "  <thead>\n",
       "    <tr style=\"text-align: right;\">\n",
       "      <th></th>\n",
       "      <th>prop_id</th>\n",
       "      <th>legal_description</th>\n",
       "      <th>land_area</th>\n",
       "      <th>school</th>\n",
       "    </tr>\n",
       "  </thead>\n",
       "  <tbody>\n",
       "    <tr>\n",
       "      <th>2712</th>\n",
       "      <td>13453</td>\n",
       "      <td>HAMLIN TOWNSITE HAMLIN BLK 17, LOT 9</td>\n",
       "      <td>0.161</td>\n",
       "      <td>HAMLIN ISD I&amp;S</td>\n",
       "    </tr>\n",
       "    <tr>\n",
       "      <th>4476</th>\n",
       "      <td>15779</td>\n",
       "      <td>HAMLIN TOWNSITE HAMLIN  BLK 35, LOT 10</td>\n",
       "      <td>0.161</td>\n",
       "      <td>HAMLIN ISD I&amp;S</td>\n",
       "    </tr>\n",
       "    <tr>\n",
       "      <th>11749</th>\n",
       "      <td>26413</td>\n",
       "      <td>HAMLIN TOWNSITE HAMLIN BLK 35, LOT S 42 OF 3  ...</td>\n",
       "      <td>0.161</td>\n",
       "      <td>HAMLIN ISD I&amp;S</td>\n",
       "    </tr>\n",
       "    <tr>\n",
       "      <th>12281</th>\n",
       "      <td>27222</td>\n",
       "      <td>HAMLIN TOWNSITE HAMLIN BLK 60, LOT 1-4</td>\n",
       "      <td>0.644</td>\n",
       "      <td>HAMLIN ISD I&amp;S</td>\n",
       "    </tr>\n",
       "    <tr>\n",
       "      <th>12819</th>\n",
       "      <td>27995</td>\n",
       "      <td>HAMLIN TOWNSITE HAMLIN BLK 55, LOT 9</td>\n",
       "      <td>0.161</td>\n",
       "      <td>HAMLIN ISD I&amp;S</td>\n",
       "    </tr>\n",
       "  </tbody>\n",
       "</table>\n",
       "</div>"
      ],
      "text/plain": [
       "       prop_id                                  legal_description  land_area  \\\n",
       "2712     13453               HAMLIN TOWNSITE HAMLIN BLK 17, LOT 9      0.161   \n",
       "4476     15779             HAMLIN TOWNSITE HAMLIN  BLK 35, LOT 10      0.161   \n",
       "11749    26413  HAMLIN TOWNSITE HAMLIN BLK 35, LOT S 42 OF 3  ...      0.161   \n",
       "12281    27222             HAMLIN TOWNSITE HAMLIN BLK 60, LOT 1-4      0.644   \n",
       "12819    27995               HAMLIN TOWNSITE HAMLIN BLK 55, LOT 9      0.161   \n",
       "\n",
       "               school  \n",
       "2712   HAMLIN ISD I&S  \n",
       "4476   HAMLIN ISD I&S  \n",
       "11749  HAMLIN ISD I&S  \n",
       "12281  HAMLIN ISD I&S  \n",
       "12819  HAMLIN ISD I&S  "
      ]
     },
     "execution_count": 13,
     "metadata": {},
     "output_type": "execute_result"
    }
   ],
   "source": [
    "df_mh[(df_mh.school.values=='HAMLIN ISD I&S') & (df_mh.prop_id !=15120 )][['prop_id', 'legal_description', 'land_area', 'school']]"
   ]
  },
  {
   "cell_type": "markdown",
   "metadata": {},
   "source": [
    "**TESTING**"
   ]
  },
  {
   "cell_type": "code",
   "execution_count": 28,
   "metadata": {},
   "outputs": [
    {
     "data": {
      "application/vnd.jupyter.widget-view+json": {
       "model_id": "f66b7d54ceff4f529c567f3199ba322d",
       "version_major": 2,
       "version_minor": 0
      },
      "text/plain": [
       "HBox(children=(HTML(value=''), FloatProgress(value=0.0, max=20.0), HTML(value='')))"
      ]
     },
     "metadata": {},
     "output_type": "display_data"
    },
    {
     "name": "stdout",
     "output_type": "stream",
     "text": [
      "\n"
     ]
    }
   ],
   "source": [
    "import os, time, requests, datetime, contextlib, argparse\n",
    "import regex as re\n",
    "from cad_lib import isnotebook, ROOT_DIR\n",
    "\n",
    "HTTP_ATTEMPTS = 1000\n",
    "URL_HEAD = {\n",
    "            'prop' : 'https://iswdataclient.azurewebsites.net/webProperty.aspx?dbkey=TOMGREENCAD',\n",
    "            'tax'  : 'https://iswdataclient.azurewebsites.net/webPropertyTaxes.aspx?dbkey=TOMGREENCAD'\n",
    "           }\n",
    "\n",
    "if isnotebook():\n",
    "    from tqdm.notebook import tqdm, trange\n",
    "else:\n",
    "    from tqdm import tqdm, trange\n",
    "\n",
    "def get_headers(url=URL_HEAD['prop']):\n",
    "    session         = requests.Session()\n",
    "    response        = session.get(url)\n",
    "    session_cookies = session.cookies.get_dict()\n",
    "    cookie_string   = '; '.join([f'{key}={session_cookies[key]}' for key in session_cookies])\n",
    "    headers         = {\n",
    "                          'cookie': cookie_string,\n",
    "                          'user-agent': 'Mozilla/5.0 (Macintosh; Intel Mac OS X 10_14_0) AppleWebKit/537.36 (KHTML, like Gecko) Chrome/89.0.4389.114 Safari/537.36'\n",
    "                      }\n",
    "    return headers\n",
    "\n",
    "\n",
    "if __name__ == '__main__':\n",
    "\n",
    "    data_folder = f'{ROOT_DIR}/data/data_tomgreen'\n",
    "    \n",
    "    os.makedirs(data_folder, exist_ok=True) \n",
    "    headers = get_headers()\n",
    "\n",
    "    if isnotebook():\n",
    "        begin_id, end_id = 1, 500\n",
    "    else:\n",
    "        parser = argparse.ArgumentParser(description='Fetcher range')\n",
    "        parser.add_argument('-begin_id', type=int, help='starting id', required=False, default=1)\n",
    "        parser.add_argument('-end_id', type=int, help='ending id', required=False, default=110000)\n",
    "        args = parser.parse_args()\n",
    "        begin_id, end_id = args.begin_id, args.end_id\n",
    "    \n",
    "    for prop_id in trange(begin_id, end_id):\n",
    "        for key in URL_HEAD.keys():\n",
    "            url   = f'{URL_HEAD[key]}&id=R{prop_id:09d}'\n",
    "            fname = f'{data_folder}/{key}_{prop_id:09d}.html'\n",
    "\n",
    "            # Handling stale sessions\n",
    "            for trial in range(HTTP_ATTEMPTS):\n",
    "                response = requests.get(url, headers=headers)\n",
    "\n",
    "                if response.ok:\n",
    "                    break\n",
    "\n",
    "                if trial==HTTP_ATTEMPTS-1:\n",
    "                    raise Exception(f'Connection timeout at prop_id={prop_id}')\n",
    "\n",
    "                time.sleep(1)\n",
    "                headers  = get_headers()\n",
    "\n",
    "            if re.findall('id=\\\"ucidentification_webprop_id\\\"[^>]*>&nbsp;<', response.text):\n",
    "                with contextlib.suppress(FileNotFoundError): # delete file, if property was removed from the county website\n",
    "                    os.remove(fname)\n",
    "            else:\n",
    "                with open(fname, 'wb') as f:\n",
    "                    f.write(response.content)"
   ]
  },
  {
   "cell_type": "code",
   "execution_count": null,
   "metadata": {},
   "outputs": [],
   "source": []
  }
 ],
 "metadata": {
  "kernelspec": {
   "display_name": "Python 3",
   "language": "python",
   "name": "python3"
  },
  "language_info": {
   "codemirror_mode": {
    "name": "ipython",
    "version": 3
   },
   "file_extension": ".py",
   "mimetype": "text/x-python",
   "name": "python",
   "nbconvert_exporter": "python",
   "pygments_lexer": "ipython3",
   "version": "3.8.5"
  }
 },
 "nbformat": 4,
 "nbformat_minor": 4
}
